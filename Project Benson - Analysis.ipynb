{
 "metadata": {
  "name": "",
  "signature": "sha256:964ec5bc2047a729e07c6cc3067ce4618bdabe9d0779b1944fe15a345338c443"
 },
 "nbformat": 3,
 "nbformat_minor": 0,
 "worksheets": [
  {
   "cells": [
    {
     "cell_type": "markdown",
     "metadata": {},
     "source": [
      "# Project Benson\n",
      "\n",
      "Focused on analyzing MTA data to understand traffic patterns through the NYC transit system. As our first project, the initial data cleaning and formatting was clearly defined - parts included below. "
     ]
    },
    {
     "cell_type": "markdown",
     "metadata": {},
     "source": [
      "Part 1:\n",
      "\n",
      "Open up a file, use csv reader to read it, make a python dict where there is a key for each (C/A, UNIT, SCP, STATION). These are the first four columns. The value for this key should be a list of lists. Each list in the list is the rest of the columns in a row. For example, one key-value pair should look like"
     ]
    },
    {
     "cell_type": "code",
     "collapsed": false,
     "input": [
      "import csv\n",
      "import sys"
     ],
     "language": "python",
     "metadata": {},
     "outputs": [],
     "prompt_number": 2
    },
    {
     "cell_type": "code",
     "collapsed": false,
     "input": [
      "def ts_function(turnstile_141213):\n",
      "    ##defines function to read and sort into a tuple and a list, any MTA file\n",
      "    my_dict = {}\n",
      "    with open(turnstile_141213) as turnstile_file4:\n",
      "        reader = csv.reader(turnstile_file4)\n",
      "        for num, row in enumerate(reader):\n",
      "            if num == 0:\n",
      "                continue\n",
      "#             if num == 5001:\n",
      "#                 break\n",
      "            my_tuple = tuple(row[:4])\n",
      "            ##creates a tuple with the first four elements\n",
      "            my_list = row[4:]\n",
      "            ##creates a list with the rest of the data\n",
      "        \n",
      "            if my_dict.get(my_tuple):\n",
      "                ##looks to see if my_tuple already exists\n",
      "                my_dict[my_tuple].append(my_list)\n",
      "            else:\n",
      "                ##if my tuple doesn't exist it creates a new one\n",
      "                my_dict[my_tuple] = [my_list]\n",
      "        \n",
      "    return my_dict"
     ],
     "language": "python",
     "metadata": {},
     "outputs": [],
     "prompt_number": 3
    },
    {
     "cell_type": "code",
     "collapsed": false,
     "input": [
      "turnstile_data_dec13 = ts_function('turnstile_141213.txt.1')\n",
      "#Calling the function for a specific file and saving to \"turnstile_data_dec13\""
     ],
     "language": "python",
     "metadata": {},
     "outputs": [],
     "prompt_number": 4
    },
    {
     "cell_type": "markdown",
     "metadata": {},
     "source": [
      "Part 2:\n",
      "\n",
      "Let's turn this into a time series.\n",
      "For each key (basically the control area, unit, device address and station of a specific turnstile), have a list again, but let the list be comprised of just the point in time and the cumulative count of entries.\n",
      "\n",
      "This basically means keeping only the date, time, and entries fields in each list. You can convert the date and time into datetime objects -- That is a python class that represents a point in time. You can combine the date and time fields into a string and use the dateutil13 module to convert it into a datetime object. For an example check this StackOverflow question11."
     ]
    },
    {
     "cell_type": "code",
     "collapsed": false,
     "input": [
      "##Using parser to create a function which can change data and time\n",
      "def cleandate(date, time):\n",
      "    from dateutil import parser\n",
      "    return parser.parse('%sT%s' % (date, time))"
     ],
     "language": "python",
     "metadata": {},
     "outputs": [],
     "prompt_number": 5
    },
    {
     "cell_type": "code",
     "collapsed": false,
     "input": [
      "##function before the entries have been grouped by date\n",
      "\n",
      "def clean_date_function(dict):\n",
      "    new_dict = {}\n",
      "    for k, v in dict.iteritems():\n",
      "\n",
      "        new_test_list = []\n",
      "        for entry in v:\n",
      "            # adding the date and the time\n",
      "            date1, time1 = entry[2:4]\n",
      "            new_time_list = cleandate(date1, time1)\n",
      "            new_test_list.append([new_time_list, int(entry[-2])])\n",
      "            #appends new entry to the new_test_list\n",
      "        new_dict[k] = new_test_list\n",
      "    return new_dict\n",
      "    "
     ],
     "language": "python",
     "metadata": {},
     "outputs": [],
     "prompt_number": 6
    },
    {
     "cell_type": "code",
     "collapsed": false,
     "input": [
      "clean_date_turnstile_dec13 = clean_date_function(turnstile_data_dec13)"
     ],
     "language": "python",
     "metadata": {},
     "outputs": [],
     "prompt_number": 7
    },
    {
     "cell_type": "markdown",
     "metadata": {},
     "source": [
      "Part 3:\n",
      "\n",
      "These counts are cumulative every n hours. We want total daily entries.\n",
      "Now make it that we again have the same keys, but now we have a single value for a single day, which is not cumulative counts but the total number of passengers that entered through this turnstile on this day."
     ]
    },
    {
     "cell_type": "code",
     "collapsed": false,
     "input": [
      "#function which takes the last entry for a list of dates and finds the difference between the two\n",
      "#values to get a daily count\n",
      "def convert_daily_cumulatives_to_daily_count(lst):\n",
      "    return lst[-1] - lst[0]\n",
      "\n",
      "#function which applies the above function to a dictionary value\n",
      "def convert_daily_cumulative_dict_to_daily_count_dict(dct):\n",
      "    daily_count_dict = {}\n",
      "    for date, cumulative_list in dct.items():\n",
      "        daily_count_dict[date] = convert_daily_cumulatives_to_daily_count(cumulative_list)\n",
      "    return daily_count_dict"
     ],
     "language": "python",
     "metadata": {},
     "outputs": [],
     "prompt_number": 8
    },
    {
     "cell_type": "code",
     "collapsed": false,
     "input": [
      "from operator import itemgetter"
     ],
     "language": "python",
     "metadata": {},
     "outputs": [],
     "prompt_number": 9
    },
    {
     "cell_type": "code",
     "collapsed": false,
     "input": [
      "def daily_rollup(dct):\n",
      "\n",
      "    turnstile_to_daily_count_timeseries = {}\n",
      "\n",
      "    for key in dct:\n",
      "        new_daily_dict = {}\n",
      "    \n",
      "        dict_length = len(dct[key])\n",
      "    \n",
      "        for value in range(dict_length):\n",
      "            date_stamp = dct[key][value][0].date()\n",
      "            entries = dct[key][value][1]\n",
      "            if new_daily_dict.get(date_stamp):\n",
      "                new_daily_dict[date_stamp].append(entries)\n",
      "            else:\n",
      "                new_daily_dict[date_stamp] = [entries]\n",
      "            \n",
      "        # new_daily_dict is a cumulative counts list for each date\n",
      "        daily_counts_dict = convert_daily_cumulative_dict_to_daily_count_dict(new_daily_dict)\n",
      "    \n",
      "        turnstile_to_daily_count_timeseries[key] = sorted(daily_counts_dict.items())\n",
      "    return turnstile_to_daily_count_timeseries"
     ],
     "language": "python",
     "metadata": {},
     "outputs": [],
     "prompt_number": 10
    },
    {
     "cell_type": "code",
     "collapsed": false,
     "input": [
      "rolled_up_clean_date_dec13 = daily_rollup(clean_date_turnstile_dec13)\n",
      "print rolled_up_clean_date_dec13.keys()[100]"
     ],
     "language": "python",
     "metadata": {},
     "outputs": [
      {
       "output_type": "stream",
       "stream": "stdout",
       "text": [
        "('N057', 'R188', '00-03-00', '50 ST')\n"
       ]
      }
     ],
     "prompt_number": 11
    },
    {
     "cell_type": "code",
     "collapsed": false,
     "input": [
      "#Looking at a single key:\n",
      "print rolled_up_clean_date_dec13.keys()[0]"
     ],
     "language": "python",
     "metadata": {},
     "outputs": [
      {
       "output_type": "stream",
       "stream": "stdout",
       "text": [
        "('A030', 'R083', '01-06-00', '23 ST-5 AVE')\n"
       ]
      }
     ],
     "prompt_number": 12
    },
    {
     "cell_type": "markdown",
     "metadata": {},
     "source": [
      "Part 4:\n",
      "\n",
      "We will plot the daily time series for a turnstile."
     ]
    },
    {
     "cell_type": "code",
     "collapsed": false,
     "input": [
      "%matplotlib inline\n",
      "import matplotlib.pyplot as plt"
     ],
     "language": "python",
     "metadata": {},
     "outputs": [],
     "prompt_number": 13
    },
    {
     "cell_type": "code",
     "collapsed": false,
     "input": [
      "##function with takes a list of tuples and returns to lists, one for each element of the tuple\n",
      "def tuple_list_to_two_lists(lst):\n",
      "    lista = []\n",
      "    listb = []\n",
      "    for i in range(len(lst)):\n",
      "        lista.append(lst[i][0])\n",
      "        listb.append(lst[i][1])\n",
      "    return lista, listb"
     ],
     "language": "python",
     "metadata": {},
     "outputs": [],
     "prompt_number": 14
    },
    {
     "cell_type": "code",
     "collapsed": false,
     "input": [
      "print rolled_up_clean_date_dec13.keys()[20]"
     ],
     "language": "python",
     "metadata": {},
     "outputs": [
      {
       "output_type": "stream",
       "stream": "stdout",
       "text": [
        "('N504', 'R021', '02-06-02', '42 ST-BRYANT PK')\n"
       ]
      }
     ],
     "prompt_number": 35
    },
    {
     "cell_type": "code",
     "collapsed": false,
     "input": [
      "key = rolled_up_clean_date_dec13.keys()\n",
      "dates, entry_counts = tuple_list_to_two_lists(rolled_up_clean_date_dec13[key[20]])\n",
      "print dates, entry_counts"
     ],
     "language": "python",
     "metadata": {},
     "outputs": [
      {
       "output_type": "stream",
       "stream": "stdout",
       "text": [
        "[datetime.date(2014, 12, 6), datetime.date(2014, 12, 7), datetime.date(2014, 12, 8), datetime.date(2014, 12, 9), datetime.date(2014, 12, 10), datetime.date(2014, 12, 11), datetime.date(2014, 12, 12)] [374, 474, 726, 1397, 1510, 1564, 1588]\n"
       ]
      }
     ],
     "prompt_number": 36
    },
    {
     "cell_type": "code",
     "collapsed": false,
     "input": [
      "plt.figure(figsize=(10,5))\n",
      "plt.plot(dates,entry_counts)\n",
      "plt.title(\"42nd Street Bryant Park - Single Turnstile Traffic\")\n",
      "print dates, entry_counts"
     ],
     "language": "python",
     "metadata": {},
     "outputs": [
      {
       "output_type": "stream",
       "stream": "stdout",
       "text": [
        "[datetime.date(2014, 12, 6), datetime.date(2014, 12, 7), datetime.date(2014, 12, 8), datetime.date(2014, 12, 9), datetime.date(2014, 12, 10), datetime.date(2014, 12, 11), datetime.date(2014, 12, 12)] [374, 474, 726, 1397, 1510, 1564, 1588]\n"
       ]
      },
      {
       "metadata": {},
       "output_type": "display_data",
       "png": "[encoded data removed]",
       "text": [
        "<matplotlib.figure.Figure at 0x1161b1fd0>"
       ]
      }
     ],
     "prompt_number": 38
    },
    {
     "cell_type": "markdown",
     "metadata": {},
     "source": [
      "Part 5:\n",
      "\n",
      "So far we've been operating on a single turnstile level, let's combine turnstiles in the same ControlArea/Unit/Station combo. There are some ControlArea/Unit/Station groups that have a single turnstile, but most have multiple turnstilea-- same value for the C/A, UNIT and STATION columns, different values for the SCP column.\n",
      "We want to combine the numbers together -- for each ControlArea/UNIT/STATION combo, for each day, add the counts from each turnstile belonging to that combo."
     ]
    },
    {
     "cell_type": "code",
     "collapsed": false,
     "input": [
      "from collections import Counter"
     ],
     "language": "python",
     "metadata": {},
     "outputs": [],
     "prompt_number": 39
    },
    {
     "cell_type": "code",
     "collapsed": false,
     "input": [
      "def collapse_scp_count(dct):\n",
      "    collapse_scp_count_dict = {}\n",
      "\n",
      "    for (c_a, unit, scp, stn), date_counts in dct.iteritems():\n",
      "        station_key = (c_a, unit, stn)\n",
      "        #redefines station_key withouth the scp value\n",
      "        if station_key not in collapse_scp_count_dict:\n",
      "            day_time_counter = Counter()\n",
      "            collapse_scp_count_dict[station_key] = day_time_counter\n",
      "    \n",
      "        for day, count in date_counts:\n",
      "            collapse_scp_count_dict[station_key][day] += count\n",
      "    return collapse_scp_count_dict   "
     ],
     "language": "python",
     "metadata": {},
     "outputs": [],
     "prompt_number": 40
    },
    {
     "cell_type": "code",
     "collapsed": false,
     "input": [
      "def collapse_scp_count_uncounter(dct):\n",
      "    collapse_scp_count_dict2 = {}\n",
      "    for station_key, day_traffic_info in dct.iteritems():\n",
      "        day_traffic_info_list = day_traffic_info.items()\n",
      "    ##items changes it from a counter to a list\n",
      "        collapse_scp_count_dict2[station_key] = sorted(day_traffic_info_list)\n",
      "    return collapse_scp_count_dict2\n",
      "    print collapse_scp_count_dict2"
     ],
     "language": "python",
     "metadata": {},
     "outputs": [],
     "prompt_number": 41
    },
    {
     "cell_type": "code",
     "collapsed": false,
     "input": [
      "collapsed_scp_clean_dec13 = collapse_scp_count(rolled_up_clean_date_dec13)"
     ],
     "language": "python",
     "metadata": {},
     "outputs": [],
     "prompt_number": 42
    },
    {
     "cell_type": "code",
     "collapsed": false,
     "input": [
      "collapsed_scp_clean_dec13['A015', 'R081', '49 ST-7 AVE']"
     ],
     "language": "python",
     "metadata": {},
     "outputs": [
      {
       "metadata": {},
       "output_type": "pyout",
       "prompt_number": 43,
       "text": [
        "Counter({datetime.date(2014, 12, 11): 14024, datetime.date(2014, 12, 12): 11054, datetime.date(2014, 12, 10): 10495, datetime.date(2014, 12, 8): 9830, datetime.date(2014, 12, 9): 9358, datetime.date(2014, 12, 6): 6191, datetime.date(2014, 12, 7): 5673})"
       ]
      }
     ],
     "prompt_number": 43
    },
    {
     "cell_type": "code",
     "collapsed": false,
     "input": [
      "collapsed_clean_dec13_v2 = collapse_scp_count_uncounter(collapsed_scp_clean_dec13)"
     ],
     "language": "python",
     "metadata": {},
     "outputs": [],
     "prompt_number": 44
    },
    {
     "cell_type": "code",
     "collapsed": false,
     "input": [
      "from pprint import pprint\n",
      "pprint(collapsed_scp_clean_dec13['A030', 'R083', '23 ST-5 AVE'])"
     ],
     "language": "python",
     "metadata": {},
     "outputs": [
      {
       "output_type": "stream",
       "stream": "stdout",
       "text": [
        "Counter({datetime.date(2014, 12, 11): 19142, datetime.date(2014, 12, 10): 17900, datetime.date(2014, 12, 8): 16415, datetime.date(2014, 12, 9): 15927, datetime.date(2014, 12, 12): 15757, datetime.date(2014, 12, 6): 8463, datetime.date(2014, 12, 7): 6547})\n"
       ]
      }
     ],
     "prompt_number": 45
    },
    {
     "cell_type": "markdown",
     "metadata": {},
     "source": [
      "Part 6:\n",
      "\n",
      "Similarly, combine everything in each station, and come up with a time series of [(date1, count1),(date2,count2),...] type of time series for each STATION, by adding up all the turnstiles in a station."
     ]
    },
    {
     "cell_type": "code",
     "collapsed": false,
     "input": [
      "##Adapted from classroom discussion and guidance / not original code\n",
      "\n",
      "from itertools import groupby\n",
      "\n",
      "def station_of_a_time_series_item(item):\n",
      "    booth, time_series = item\n",
      "    return station_of_a_booth(booth)\n",
      "\n",
      "def station_of_a_booth(booth):\n",
      "    control_area, unit, station = booth\n",
      "    return station\n",
      "\n",
      "def collapse_station_dict_function(dct):\n",
      "    collapse_station_dict_only = {}\n",
      "    booth_sorted = sorted(dct.items())\n",
      "    for station, date_counts_list in groupby(booth_sorted, key=station_of_a_time_series_item):                                         \n",
      "        daily_counter=Counter()\n",
      "        for turnstile, time_series in date_counts_list:\n",
      "            for day, count in time_series:\n",
      "                daily_counter[day] += count\n",
      "        collapse_station_dict_only[station] = sorted(daily_counter.items())\n",
      "    return collapse_station_dict_only"
     ],
     "language": "python",
     "metadata": {},
     "outputs": [],
     "prompt_number": 46
    },
    {
     "cell_type": "code",
     "collapsed": false,
     "input": [
      "collapsed_station_dec13 = collapse_station_dict_function(collapsed_clean_dec13_v2)"
     ],
     "language": "python",
     "metadata": {},
     "outputs": [],
     "prompt_number": 47
    },
    {
     "cell_type": "code",
     "collapsed": false,
     "input": [
      "pprint(collapsed_station_dec13['14 ST-UNION SQ'])"
     ],
     "language": "python",
     "metadata": {},
     "outputs": [
      {
       "output_type": "stream",
       "stream": "stdout",
       "text": [
        "[(datetime.date(2014, 12, 6), 21406),\n",
        " (datetime.date(2014, 12, 7), 20525),\n",
        " (datetime.date(2014, 12, 8), 29685),\n",
        " (datetime.date(2014, 12, 9), 28491),\n",
        " (datetime.date(2014, 12, 10), 30843),\n",
        " (datetime.date(2014, 12, 11), 31063),\n",
        " (datetime.date(2014, 12, 12), 32538)]\n"
       ]
      }
     ],
     "prompt_number": 48
    },
    {
     "cell_type": "markdown",
     "metadata": {},
     "source": [
      "Part 7:\n",
      "\n",
      "Plot the time series for a station"
     ]
    },
    {
     "cell_type": "code",
     "collapsed": false,
     "input": [
      "dates_dec13, total_station_counts_dec13 = tuple_list_to_two_lists(collapsed_station_dec13['42 ST-BRYANT PK'])"
     ],
     "language": "python",
     "metadata": {},
     "outputs": [],
     "prompt_number": 54
    },
    {
     "cell_type": "code",
     "collapsed": false,
     "input": [
      "print 'number of stations', len(collapsed_station_dec13)"
     ],
     "language": "python",
     "metadata": {},
     "outputs": [
      {
       "output_type": "stream",
       "stream": "stdout",
       "text": [
        "number of stations 381\n"
       ]
      }
     ],
     "prompt_number": 55
    },
    {
     "cell_type": "code",
     "collapsed": false,
     "input": [
      "plt.figure(figsize=(10,5))\n",
      "plt.title(\"42nd Street Bryant Park Station - Cumulative Traffic\")\n",
      "plt.plot(dates_dec13, total_station_counts_dec13)"
     ],
     "language": "python",
     "metadata": {},
     "outputs": [
      {
       "metadata": {},
       "output_type": "pyout",
       "prompt_number": 57,
       "text": [
        "[<matplotlib.lines.Line2D at 0x117371d10>]"
       ]
      },
      {
       "metadata": {},
       "output_type": "display_data",
       "png": "[encoded data removed]",
       "text": [
        "<matplotlib.figure.Figure at 0x117021f90>"
       ]
      }
     ],
     "prompt_number": 57
    },
    {
     "cell_type": "markdown",
     "metadata": {},
     "source": [
      "Part 8:\n",
      "\n",
      "\n",
      "Make one list of counts for one week for one station. Monday's count, Tuesday's count, etc. so it's a list of 7 counts. Make the same list for another week, and another week, and another week. plt.plot(week_count_list) for every week_count_list you created this way. You should get a rainbow plot of weekly commute numbers on top of each other."
     ]
    },
    {
     "cell_type": "markdown",
     "metadata": {},
     "source": [
      "Pull in December 27th Data:"
     ]
    },
    {
     "cell_type": "code",
     "collapsed": false,
     "input": [
      "turnstile_data_dec27 = ts_function('turnstile_141227.txt')"
     ],
     "language": "python",
     "metadata": {},
     "outputs": [],
     "prompt_number": 66
    },
    {
     "cell_type": "code",
     "collapsed": false,
     "input": [
      "clean_date_turnstile_dec27 = clean_date_function(turnstile_data_dec27)"
     ],
     "language": "python",
     "metadata": {},
     "outputs": [],
     "prompt_number": 67
    },
    {
     "cell_type": "code",
     "collapsed": false,
     "input": [
      "rolled_up_clean_date_dec27 = daily_rollup(clean_date_turnstile_dec27)"
     ],
     "language": "python",
     "metadata": {},
     "outputs": [],
     "prompt_number": 68
    },
    {
     "cell_type": "code",
     "collapsed": false,
     "input": [
      "collapsed_scp_clean_dec27 = collapse_scp_count(rolled_up_clean_date_dec27)"
     ],
     "language": "python",
     "metadata": {},
     "outputs": [],
     "prompt_number": 69
    },
    {
     "cell_type": "code",
     "collapsed": false,
     "input": [
      "collapsed_scp_clean_dec27_v2 = collapse_scp_count_uncounter(collapsed_scp_clean_dec27)"
     ],
     "language": "python",
     "metadata": {},
     "outputs": [],
     "prompt_number": 70
    },
    {
     "cell_type": "code",
     "collapsed": false,
     "input": [
      "collapsed_station_dec27 = collapse_station_dict_function(collapsed_scp_clean_dec27_v2)"
     ],
     "language": "python",
     "metadata": {},
     "outputs": [],
     "prompt_number": 71
    },
    {
     "cell_type": "code",
     "collapsed": false,
     "input": [
      "dates_dec27, total_station_counts_dec27 = tuple_list_to_two_lists(collapsed_station_dec27['49 ST-7 AVE'])"
     ],
     "language": "python",
     "metadata": {},
     "outputs": [],
     "prompt_number": 72
    },
    {
     "cell_type": "code",
     "collapsed": false,
     "input": [
      "plt.plot(dates_dec27, total_station_counts_dec27)"
     ],
     "language": "python",
     "metadata": {},
     "outputs": [
      {
       "metadata": {},
       "output_type": "pyout",
       "prompt_number": 73,
       "text": [
        "[<matplotlib.lines.Line2D at 0x1160d7090>]"
       ]
      },
      {
       "metadata": {},
       "output_type": "display_data",
       "png": "[encoded data removed]",
       "text": [
        "<matplotlib.figure.Figure at 0x1160ab2d0>"
       ]
      }
     ],
     "prompt_number": 73
    },
    {
     "cell_type": "markdown",
     "metadata": {},
     "source": [
      "Pull in January 3rd Data:"
     ]
    },
    {
     "cell_type": "code",
     "collapsed": false,
     "input": [
      "turnstile_data_jan3 = ts_function('turnstile_150103.txt')"
     ],
     "language": "python",
     "metadata": {},
     "outputs": [],
     "prompt_number": 74
    },
    {
     "cell_type": "code",
     "collapsed": false,
     "input": [
      "clean_date_turnstile_jan3 = clean_date_function(turnstile_data_jan3)"
     ],
     "language": "python",
     "metadata": {},
     "outputs": [],
     "prompt_number": 75
    },
    {
     "cell_type": "code",
     "collapsed": false,
     "input": [
      "rolled_up_clean_date_jan3 = daily_rollup(clean_date_turnstile_jan3)"
     ],
     "language": "python",
     "metadata": {},
     "outputs": [],
     "prompt_number": 76
    },
    {
     "cell_type": "code",
     "collapsed": false,
     "input": [
      "collapsed_scp_clean_jan3 = collapse_scp_count(rolled_up_clean_date_jan3)"
     ],
     "language": "python",
     "metadata": {},
     "outputs": [],
     "prompt_number": 77
    },
    {
     "cell_type": "code",
     "collapsed": false,
     "input": [
      "collapsed_scp_clean_jan3_v2 = collapse_scp_count_uncounter(collapsed_scp_clean_jan3)"
     ],
     "language": "python",
     "metadata": {},
     "outputs": [],
     "prompt_number": 78
    },
    {
     "cell_type": "code",
     "collapsed": false,
     "input": [
      "collapsed_station_jan3 = collapse_station_dict_function(collapsed_scp_clean_jan3_v2)"
     ],
     "language": "python",
     "metadata": {},
     "outputs": [],
     "prompt_number": 79
    },
    {
     "cell_type": "code",
     "collapsed": false,
     "input": [
      "dates_jan3, total_station_counts_jan3 = tuple_list_to_two_lists(collapsed_station_jan3['49 ST-7 AVE'])"
     ],
     "language": "python",
     "metadata": {},
     "outputs": [],
     "prompt_number": 80
    },
    {
     "cell_type": "code",
     "collapsed": false,
     "input": [
      "plt.plot(dates_jan3, total_station_counts_jan3)"
     ],
     "language": "python",
     "metadata": {},
     "outputs": [
      {
       "metadata": {},
       "output_type": "pyout",
       "prompt_number": 81,
       "text": [
        "[<matplotlib.lines.Line2D at 0x12b61c110>]"
       ]
      },
      {
       "metadata": {},
       "output_type": "display_data",
       "png": "[encoded data removed]",
       "text": [
        "<matplotlib.figure.Figure at 0x11612e990>"
       ]
      }
     ],
     "prompt_number": 81
    },
    {
     "cell_type": "markdown",
     "metadata": {},
     "source": [
      "Pull in January 10th data"
     ]
    },
    {
     "cell_type": "code",
     "collapsed": false,
     "input": [
      "turnstile_data_jan10 = ts_function('turnstile_150110.txt')"
     ],
     "language": "python",
     "metadata": {},
     "outputs": [],
     "prompt_number": 82
    },
    {
     "cell_type": "code",
     "collapsed": false,
     "input": [
      "clean_date_turnstile_jan10 = clean_date_function(turnstile_data_jan10)"
     ],
     "language": "python",
     "metadata": {},
     "outputs": [],
     "prompt_number": 83
    },
    {
     "cell_type": "code",
     "collapsed": false,
     "input": [
      "rolled_up_clean_date_jan10 = daily_rollup(clean_date_turnstile_jan10)"
     ],
     "language": "python",
     "metadata": {},
     "outputs": [],
     "prompt_number": 84
    },
    {
     "cell_type": "code",
     "collapsed": false,
     "input": [
      "collapsed_scp_clean_jan10 = collapse_scp_count(rolled_up_clean_date_jan10)"
     ],
     "language": "python",
     "metadata": {},
     "outputs": [],
     "prompt_number": 85
    },
    {
     "cell_type": "code",
     "collapsed": false,
     "input": [
      "collapsed_scp_clean_jan10_v2 = collapse_scp_count_uncounter(collapsed_scp_clean_jan10)"
     ],
     "language": "python",
     "metadata": {},
     "outputs": [],
     "prompt_number": 86
    },
    {
     "cell_type": "code",
     "collapsed": false,
     "input": [
      "collapsed_station_jan10 = collapse_station_dict_function(collapsed_scp_clean_jan10_v2)"
     ],
     "language": "python",
     "metadata": {},
     "outputs": [],
     "prompt_number": 87
    },
    {
     "cell_type": "code",
     "collapsed": false,
     "input": [
      "dates_jan10, total_station_counts_jan10 = tuple_list_to_two_lists(collapsed_station_jan10['49 ST-7 AVE'])"
     ],
     "language": "python",
     "metadata": {},
     "outputs": [],
     "prompt_number": 88
    },
    {
     "cell_type": "code",
     "collapsed": false,
     "input": [
      "plt.plot(dates_jan10, total_station_counts_jan10)"
     ],
     "language": "python",
     "metadata": {},
     "outputs": [
      {
       "metadata": {},
       "output_type": "pyout",
       "prompt_number": 89,
       "text": [
        "[<matplotlib.lines.Line2D at 0x132342a90>]"
       ]
      },
      {
       "metadata": {},
       "output_type": "display_data",
       "png": "[encoded data removed]",
       "text": [
        "<matplotlib.figure.Figure at 0x116168c50>"
       ]
      }
     ],
     "prompt_number": 89
    },
    {
     "cell_type": "markdown",
     "metadata": {},
     "source": [
      "Pull in December 20th Data again..."
     ]
    },
    {
     "cell_type": "code",
     "collapsed": false,
     "input": [
      "turnstile_data_dec20_2 = ts_function('turnstile_141220.txt')"
     ],
     "language": "python",
     "metadata": {},
     "outputs": [],
     "prompt_number": 90
    },
    {
     "cell_type": "code",
     "collapsed": false,
     "input": [
      "clean_date_turnstile_dec20_2 = clean_date_function(turnstile_data_dec20_2)"
     ],
     "language": "python",
     "metadata": {},
     "outputs": [],
     "prompt_number": 91
    },
    {
     "cell_type": "code",
     "collapsed": false,
     "input": [
      "rolled_up_clean_date_dec20_2 = daily_rollup(clean_date_turnstile_dec20_2)"
     ],
     "language": "python",
     "metadata": {},
     "outputs": [],
     "prompt_number": 92
    },
    {
     "cell_type": "code",
     "collapsed": false,
     "input": [
      "collapsed_scp_clean_dec20_2 = collapse_scp_count(rolled_up_clean_date_dec20_2)"
     ],
     "language": "python",
     "metadata": {},
     "outputs": [],
     "prompt_number": 93
    },
    {
     "cell_type": "code",
     "collapsed": false,
     "input": [
      "collapsed_scp_clean_dec20_v3 = collapse_scp_count_uncounter(collapsed_scp_clean_dec20_2)"
     ],
     "language": "python",
     "metadata": {},
     "outputs": [],
     "prompt_number": 94
    },
    {
     "cell_type": "code",
     "collapsed": false,
     "input": [
      "collapsed_station_dec20_2 = collapse_station_dict_function(collapsed_scp_clean_dec20_v3)"
     ],
     "language": "python",
     "metadata": {},
     "outputs": [],
     "prompt_number": 95
    },
    {
     "cell_type": "code",
     "collapsed": false,
     "input": [
      "dates_dec20_2, total_station_counts_dec20_2 = tuple_list_to_two_lists(collapsed_station_dec20_2['49 ST-7 AVE'])"
     ],
     "language": "python",
     "metadata": {},
     "outputs": [],
     "prompt_number": 96
    },
    {
     "cell_type": "code",
     "collapsed": false,
     "input": [
      "plt.plot(dates_dec20_2, total_station_counts_dec20_2)\n",
      "plt.title('49th-Street 7th Avenue Station')"
     ],
     "language": "python",
     "metadata": {},
     "outputs": [
      {
       "metadata": {},
       "output_type": "pyout",
       "prompt_number": 97,
       "text": [
        "<matplotlib.text.Text at 0x138ea7cd0>"
       ]
      },
      {
       "metadata": {},
       "output_type": "display_data",
       "png": "[encoded data removed]",
       "text": [
        "<matplotlib.figure.Figure at 0x1323c9210>"
       ]
      }
     ],
     "prompt_number": 97
    },
    {
     "cell_type": "markdown",
     "metadata": {},
     "source": [
      "Plot all the weeks for a single station"
     ]
    },
    {
     "cell_type": "code",
     "collapsed": false,
     "input": [
      "plt.plot(total_station_counts_dec20_2)\n",
      "plt.plot(total_station_counts_dec27)\n",
      "plt.plot(total_station_counts_jan3)\n",
      "plt.plot(total_station_counts_jan10)\n",
      "plt.title('49th Street 7th Avenue Station')\n",
      "plt.show()"
     ],
     "language": "python",
     "metadata": {},
     "outputs": [
      {
       "metadata": {},
       "output_type": "display_data",
       "png": "[encoded data removed]",
       "text": [
        "<matplotlib.figure.Figure at 0x138f2e190>"
       ]
      }
     ],
     "prompt_number": 98
    },
    {
     "cell_type": "code",
     "collapsed": false,
     "input": [
      "collapsed_station_dec20_2.itervalues().next()"
     ],
     "language": "python",
     "metadata": {},
     "outputs": [
      {
       "metadata": {},
       "output_type": "pyout",
       "prompt_number": 99,
       "text": [
        "[(datetime.date(2014, 12, 13), 88),\n",
        " (datetime.date(2014, 12, 14), 67),\n",
        " (datetime.date(2014, 12, 15), 497),\n",
        " (datetime.date(2014, 12, 16), 471),\n",
        " (datetime.date(2014, 12, 17), 504),\n",
        " (datetime.date(2014, 12, 18), 467),\n",
        " (datetime.date(2014, 12, 19), 486)]"
       ]
      }
     ],
     "prompt_number": 99
    },
    {
     "cell_type": "markdown",
     "metadata": {},
     "source": [
      "Part 9:\n",
      "\n",
      "Over multiple weeks, sum total ridership for each station and sort them, so you can find out the stations with the highest traffic during the time you investigate"
     ]
    },
    {
     "cell_type": "markdown",
     "metadata": {},
     "source": [
      "first, for only one week"
     ]
    },
    {
     "cell_type": "code",
     "collapsed": false,
     "input": [
      "def total_count(time_count_list):\n",
      "    return sum([traffic for (date, traffic) in time_count_list])\n",
      "\n",
      "def station_totals_no_dates(dict):\n",
      "    station_totals_dict = {}\n",
      "    \n",
      "    for station, date_count in dict.iteritems():\n",
      "        station_totals_dict[station]=total_count(date_count)\n",
      "\n",
      "    return station_totals_dict"
     ],
     "language": "python",
     "metadata": {},
     "outputs": [],
     "prompt_number": 101
    },
    {
     "cell_type": "code",
     "collapsed": false,
     "input": [
      "station_totals_dec20week = station_totals_no_dates(collapsed_station_dec20_2)"
     ],
     "language": "python",
     "metadata": {},
     "outputs": [],
     "prompt_number": 102
    },
    {
     "cell_type": "code",
     "collapsed": false,
     "input": [
      "import operator\n",
      "sorted_dec20week = sorted(station_totals_dec20week.items(), key=operator.itemgetter(1), reverse=True)"
     ],
     "language": "python",
     "metadata": {},
     "outputs": [],
     "prompt_number": 104
    }
   ],
   "metadata": {}
  }
 ]
}